{
  "cells": [
    {
      "cell_type": "markdown",
      "metadata": {
        "id": "Pi9CF0391ARI"
      },
      "source": [
        "# Writing actions as code snippets or JSON blobs\n",
        "\n",
        "This notebook is part of the [Hugging Face Agents Course](https://www.hf.co/learn/agents-course), a free Course from beginner to expert, where you learn to build Agents.\n",
        "\n",
        "![Agents course share](https://huggingface.co/datasets/agents-course/course-images/resolve/main/en/communication/share.png)"
      ]
    },
    {
      "cell_type": "markdown",
      "metadata": {
        "id": "9gsYky7F1GzT"
      },
      "source": [
        "## Let's install the dependencies and login to our HF account to access the Inference API\n",
        "\n",
        "If you haven't installed `smolagents` yet, you can do so by running the following command:"
      ]
    },
    {
      "cell_type": "code",
      "execution_count": null,
      "metadata": {
        "id": "MoFopncp0pnJ"
      },
      "outputs": [],
      "source": [
        "!pip install smolagents -U"
      ]
    },
    {
      "cell_type": "markdown",
      "metadata": {
        "id": "cH-4W1GhYL4T"
      },
      "source": [
        "Let's also login to the Hugging Face Hub to have access to the Inference API."
      ]
    },
    {
      "cell_type": "code",
      "execution_count": null,
      "metadata": {
        "id": "TFTc-ry70y1f"
      },
      "outputs": [],
      "source": [
        "from huggingface_hub import notebook_login\n",
        "\n",
        "notebook_login()"
      ]
    },
    {
      "cell_type": "markdown",
      "metadata": {
        "id": "ekKxaZrd1HlB"
      },
      "source": [
        "## Selecting a Playlist for the Party Using `smolagents` and a `ToolCallingAgent`\n",
        "\n",
        "Let's revisit the previous example where Alfred started party preparations, but this time we'll use a `ToolCallingAgent` to highlight the difference. We'll build an agent that can search the web using DuckDuckGo, just like in our Code Agent example. The only difference is the agent type - the framework handles everything else:"
      ]
    },
    {
      "cell_type": "code",
      "execution_count": null,
      "metadata": {
        "colab": {
          "base_uri": "https://localhost:8080/",
          "height": 1000
        },
        "id": "6IInDOUN01sP",
        "outputId": "e49f2360-d377-4ed8-b7ae-8da4a3e3757b"
      },
      "outputs": [
        {
          "data": {
            "text/html": [
              "<pre style=\"white-space:pre;overflow-x:auto;line-height:normal;font-family:Menlo,'DejaVu Sans Mono',consolas,'Courier New',monospace\"><span style=\"color: #d4b702; text-decoration-color: #d4b702\">╭──────────────────────────────────────────────────── </span><span style=\"color: #d4b702; text-decoration-color: #d4b702; font-weight: bold\">New run</span><span style=\"color: #d4b702; text-decoration-color: #d4b702\"> ────────────────────────────────────────────────────╮</span>\n",
              "<span style=\"color: #d4b702; text-decoration-color: #d4b702\">│</span>                                                                                                                 <span style=\"color: #d4b702; text-decoration-color: #d4b702\">│</span>\n",
              "<span style=\"color: #d4b702; text-decoration-color: #d4b702\">│</span> <span style=\"font-weight: bold\">Search for the best music recommendations for a party at the Wayne's mansion.</span>                                   <span style=\"color: #d4b702; text-decoration-color: #d4b702\">│</span>\n",
              "<span style=\"color: #d4b702; text-decoration-color: #d4b702\">│</span>                                                                                                                 <span style=\"color: #d4b702; text-decoration-color: #d4b702\">│</span>\n",
              "<span style=\"color: #d4b702; text-decoration-color: #d4b702\">╰─ HfApiModel - Qwen/Qwen2.5-Coder-32B-Instruct ──────────────────────────────────────────────────────────────────╯</span>\n",
              "</pre>\n"
            ],
            "text/plain": [
              "\u001b[38;2;212;183;2m╭─\u001b[0m\u001b[38;2;212;183;2m───────────────────────────────────────────────────\u001b[0m\u001b[38;2;212;183;2m \u001b[0m\u001b[1;38;2;212;183;2mNew run\u001b[0m\u001b[38;2;212;183;2m \u001b[0m\u001b[38;2;212;183;2m───────────────────────────────────────────────────\u001b[0m\u001b[38;2;212;183;2m─╮\u001b[0m\n",
              "\u001b[38;2;212;183;2m│\u001b[0m                                                                                                                 \u001b[38;2;212;183;2m│\u001b[0m\n",
              "\u001b[38;2;212;183;2m│\u001b[0m \u001b[1mSearch for the best music recommendations for a party at the Wayne's mansion.\u001b[0m                                   \u001b[38;2;212;183;2m│\u001b[0m\n",
              "\u001b[38;2;212;183;2m│\u001b[0m                                                                                                                 \u001b[38;2;212;183;2m│\u001b[0m\n",
              "\u001b[38;2;212;183;2m╰─\u001b[0m\u001b[38;2;212;183;2m HfApiModel - Qwen/Qwen2.5-Coder-32B-Instruct \u001b[0m\u001b[38;2;212;183;2m─────────────────────────────────────────────────────────────────\u001b[0m\u001b[38;2;212;183;2m─╯\u001b[0m\n"
            ]
          },
          "metadata": {},
          "output_type": "display_data"
        },
        {
          "data": {
            "text/html": [
              "<pre style=\"white-space:pre;overflow-x:auto;line-height:normal;font-family:Menlo,'DejaVu Sans Mono',consolas,'Courier New',monospace\"><span style=\"color: #d4b702; text-decoration-color: #d4b702\">━━━━━━━━━━━━━━━━━━━━━━━━━━━━━━━━━━━━━━━━━━━━━━━━━━━━━ </span><span style=\"font-weight: bold\">Step </span><span style=\"color: #008080; text-decoration-color: #008080; font-weight: bold\">1</span><span style=\"color: #d4b702; text-decoration-color: #d4b702\"> ━━━━━━━━━━━━━━━━━━━━━━━━━━━━━━━━━━━━━━━━━━━━━━━━━━━━━━</span>\n",
              "</pre>\n"
            ],
            "text/plain": [
              "\u001b[38;2;212;183;2m━━━━━━━━━━━━━━━━━━━━━━━━━━━━━━━━━━━━━━━━━━━━━━━━━━━━━ \u001b[0m\u001b[1mStep \u001b[0m\u001b[1;36m1\u001b[0m\u001b[38;2;212;183;2m ━━━━━━━━━━━━━━━━━━━━━━━━━━━━━━━━━━━━━━━━━━━━━━━━━━━━━━\u001b[0m\n"
            ]
          },
          "metadata": {},
          "output_type": "display_data"
        },
        {
          "name": "stderr",
          "output_type": "stream",
          "text": [
            "/usr/local/lib/python3.11/dist-packages/huggingface_hub/utils/_auth.py:94: UserWarning: \n",
            "The secret `HF_TOKEN` does not exist in your Colab secrets.\n",
            "To authenticate with the Hugging Face Hub, create a token in your settings tab (https://huggingface.co/settings/tokens), set it as secret in your Google Colab and restart your session.\n",
            "You will be able to reuse this secret in all of your notebooks.\n",
            "Please note that authentication is recommended but still optional to access public models or datasets.\n",
            "  warnings.warn(\n"
          ]
        },
        {
          "data": {
            "text/html": [
              "<pre style=\"white-space:pre;overflow-x:auto;line-height:normal;font-family:Menlo,'DejaVu Sans Mono',consolas,'Courier New',monospace\">╭─────────────────────────────────────────────────────────────────────────────────────────────────────────────────╮\n",
              "│ Calling tool: 'web_search' with arguments: {'query': \"best music recommendations for a party at Wayne's         │\n",
              "│ mansion\"}                                                                                                       │\n",
              "╰─────────────────────────────────────────────────────────────────────────────────────────────────────────────────╯\n",
              "</pre>\n"
            ],
            "text/plain": [
              "╭─────────────────────────────────────────────────────────────────────────────────────────────────────────────────╮\n",
              "│ Calling tool: 'web_search' with arguments: {'query': \"best music recommendations for a party at Wayne's         │\n",
              "│ mansion\"}                                                                                                       │\n",
              "╰─────────────────────────────────────────────────────────────────────────────────────────────────────────────────╯\n"
            ]
          },
          "metadata": {},
          "output_type": "display_data"
        },
        {
          "data": {
            "text/html": [
              "<pre style=\"white-space:pre;overflow-x:auto;line-height:normal;font-family:Menlo,'DejaVu Sans Mono',consolas,'Courier New',monospace\">Observations: ## Search Results\n",
              "\n",
              "|The <span style=\"color: #008080; text-decoration-color: #008080; font-weight: bold\">75</span> Best Party Songs That Will Get Everyone Dancing - \n",
              "Gear4music<span style=\"font-weight: bold\">](</span><span style=\"color: #0000ff; text-decoration-color: #0000ff; text-decoration: underline\">https://www.gear4music.com/blog/best-party-songs/)</span>\n",
              "The best party songs <span style=\"color: #008080; text-decoration-color: #008080; font-weight: bold\">1</span>. <span style=\"color: #008000; text-decoration-color: #008000\">\"September\"</span> - Earth, Wind &amp; Fire <span style=\"font-weight: bold\">(</span><span style=\"color: #008080; text-decoration-color: #008080; font-weight: bold\">1978</span><span style=\"font-weight: bold\">)</span> Quite possibly the best party song. An infectious \n",
              "mix of funk and soul, <span style=\"color: #008000; text-decoration-color: #008000\">\"September\"</span> is celebrated for its upbeat melody and <span style=\"color: #008000; text-decoration-color: #008000\">\"ba-dee-ya\"</span> chorus, making it a timeless \n",
              "dance favorite.\n",
              "\n",
              "|Wedding Party Entrance Songs to Get the Party Started - The Mansion \n",
              "<span style=\"color: #808000; text-decoration-color: #808000\">...</span><span style=\"font-weight: bold\">](</span><span style=\"color: #0000ff; text-decoration-color: #0000ff; text-decoration: underline\">https://mansiononmainstreet.com/wedding-party-entrance-songs-to-get-the-party-started/)</span>\n",
              "Best Wedding Party Entrance Songs. No matter what vibe you're going for, there are some wedding party entrance \n",
              "songs that are guaranteed to be a hit with people. From the latest music from Justin Timberlake to oldies but \n",
              "goodies, most of your guests will be familiar with the popular wedding party entrance songs listed below.\n",
              "\n",
              "|<span style=\"color: #008080; text-decoration-color: #008080; font-weight: bold\">50</span> Songs on Every Event Planner's Playlist - \n",
              "Eventbrite<span style=\"font-weight: bold\">](</span><span style=\"color: #0000ff; text-decoration-color: #0000ff; text-decoration: underline\">https://www.eventbrite.com/blog/event-planning-playlist-ds00/)</span>\n",
              "Music sets the mood and provides the soundtrack <span style=\"font-weight: bold\">(</span>literally<span style=\"font-weight: bold\">)</span> for a memorable and exciting time. While the right \n",
              "songs can enhance the experience, the wrong event music can throw off the vibe. For example, fast-paced songs \n",
              "probably aren't the best fit for a formal gala. And smooth jazz is likely to lull your guests at a motivational \n",
              "conference.\n",
              "\n",
              "|<span style=\"color: #008080; text-decoration-color: #008080; font-weight: bold\">200</span> Classic House Party Songs Everyone Knows | The Best <span style=\"color: #808000; text-decoration-color: #808000\">...</span> - \n",
              "iSpyTunes<span style=\"font-weight: bold\">](</span><span style=\"color: #0000ff; text-decoration-color: #0000ff; text-decoration: underline\">https://www.ispytunes.com/post/house-party-songs)</span>\n",
              "\" Branded merchandise adds flair to any occasion, just like the perfect playlist. <span style=\"color: #008080; text-decoration-color: #008080; font-weight: bold\">200</span> classic house party songs \n",
              "everyone knows set the mood, bringing energy to every celebration. The best popular party hits keep guests dancing,\n",
              "creating unforgettable moments. From throwback anthems to modern beats, a great selection ensures nonstop fun.\n",
              "\n",
              "|The Best Songs For Parties - The Ambient Mixer \n",
              "Blog<span style=\"font-weight: bold\">](</span><span style=\"color: #0000ff; text-decoration-color: #0000ff; text-decoration: underline\">https://blog.ambient-mixer.com/usage/parties-2/the-best-songs-for-parties/)</span>\n",
              "The <span style=\"color: #008080; text-decoration-color: #008080; font-weight: bold\">100</span> best party songs ever made. Top <span style=\"color: #008080; text-decoration-color: #008080; font-weight: bold\">100</span> Best Party Songs Of All Time. Of course, these are just <span style=\"color: #008080; text-decoration-color: #008080; font-weight: bold\">2</span> of the many \n",
              "available playlists to choose from. However, these two contain some of the most popular ones most people usually \n",
              "end up using. If these are not the type of songs you or your guests might enjoy then simply follow the steps in the\n",
              "<span style=\"color: #808000; text-decoration-color: #808000\">...</span>\n",
              "\n",
              "|Passaic County Parks &amp; Recreation: Music at the \n",
              "Mansion<span style=\"font-weight: bold\">](</span><span style=\"color: #0000ff; text-decoration-color: #0000ff; text-decoration: underline\">https://passaiccountynj.myrec.com/info/activities/program_details.aspx?ProgramID=29909)</span>\n",
              "Thursdays from <span style=\"color: #008080; text-decoration-color: #008080; font-weight: bold\">7</span> to <span style=\"color: #008080; text-decoration-color: #008080; font-weight: bold\">9</span> PM the finest local bands will be playing music while In the Drink restaurant sells food and \n",
              "drinks on site. September 3rd: Norton Smull Band; Parking is limited at the Dey Mansion <span style=\"color: #008080; text-decoration-color: #008080; font-weight: bold\">209</span> Totowa Rd. Wayne, NJ. \n",
              "Overflow parking will be at the Preakness Valley Golf Course. You may drop off your guests at the Mansion first.\n",
              "\n",
              "|Grand Entrance Songs | SOUNDfonix<span style=\"font-weight: bold\">](</span><span style=\"color: #0000ff; text-decoration-color: #0000ff; text-decoration: underline\">https://soundfonixent.com/resources/reception-song-ideas/grand-entrance-songs/)</span>\n",
              "The entrance song sets the tone for the rest of the dance and the evening. Choose your entrance song wisely.\n",
              "\n",
              "|Party Music Guide: Ultimate Tips for the Perfect \n",
              "Playlist<span style=\"font-weight: bold\">](</span><span style=\"color: #0000ff; text-decoration-color: #0000ff; text-decoration: underline\">https://thebackstage-deezer.com/music/perfect-party-music-playlist/)</span>\n",
              "Check out the best party playlists and top party songs to ensure your next party is packed! The most popular party \n",
              "songs are here, just hit play. <span style=\"color: #808000; text-decoration-color: #808000\">...</span> to decor. But, most of all, you need to have fantastic music. We recommend you \n",
              "get at least three hours' worth of party music queued and ready — that's about <span style=\"color: #008080; text-decoration-color: #008080; font-weight: bold\">75</span> songs. Lucky for you, we've <span style=\"color: #808000; text-decoration-color: #808000\">...</span>\n",
              "\n",
              "|The Top <span style=\"color: #008080; text-decoration-color: #008080; font-weight: bold\">100</span> Best Party Songs of All Time - \n",
              "LiveAbout<span style=\"font-weight: bold\">](</span><span style=\"color: #0000ff; text-decoration-color: #0000ff; text-decoration: underline\">https://www.liveabout.com/top-best-party-songs-of-all-time-3248355)</span>\n",
              "<span style=\"color: #008000; text-decoration-color: #008000\">\"Macarena\"</span> then spent <span style=\"color: #008080; text-decoration-color: #008080; font-weight: bold\">14</span> weeks at No. <span style=\"color: #008080; text-decoration-color: #008080; font-weight: bold\">1</span> on the U.S. pop singles chart. For more than a year this was one of the \n",
              "most popular special event songs in the United States. It still works well as a charming party song encouraging \n",
              "everyone to join in on the simple dance.\n",
              "\n",
              "|<span style=\"color: #008080; text-decoration-color: #008080; font-weight: bold\">70</span> Best Piano Bar Songs You Should Request<span style=\"font-weight: bold\">](</span><span style=\"color: #0000ff; text-decoration-color: #0000ff; text-decoration: underline\">https://www.pianoarea.com/best-piano-bar-songs/)</span>\n",
              "Best Piano Bar Songs You Should Request <span style=\"color: #008080; text-decoration-color: #008080; font-weight: bold\">1</span>. <span style=\"color: #008000; text-decoration-color: #008000\">\"Piano Man\"</span> by Billy Joel. One of the top recommendations for piano bar \n",
              "songs is <span style=\"color: #008000; text-decoration-color: #008000\">\"Piano Man\"</span> by Billy Joel.. This iconic track was released by Columbia Records in <span style=\"color: #008080; text-decoration-color: #008080; font-weight: bold\">1973</span>.. As part of the \n",
              "album titled <span style=\"color: #008000; text-decoration-color: #008000\">'Piano Man,'</span> it's one of Billy Joel's most recognizable works.. The song spins a captivating narrative\n",
              "and showcases Joe's compelling <span style=\"color: #808000; text-decoration-color: #808000\">...</span>\n",
              "</pre>\n"
            ],
            "text/plain": [
              "Observations: ## Search Results\n",
              "\n",
              "|The \u001b[1;36m75\u001b[0m Best Party Songs That Will Get Everyone Dancing - \n",
              "Gear4music\u001b[1m]\u001b[0m\u001b[1m(\u001b[0m\u001b[4;94mhttps://www.gear4music.com/blog/best-party-songs/\u001b[0m\u001b[4;94m)\u001b[0m\n",
              "The best party songs \u001b[1;36m1\u001b[0m. \u001b[32m\"September\"\u001b[0m - Earth, Wind & Fire \u001b[1m(\u001b[0m\u001b[1;36m1978\u001b[0m\u001b[1m)\u001b[0m Quite possibly the best party song. An infectious \n",
              "mix of funk and soul, \u001b[32m\"September\"\u001b[0m is celebrated for its upbeat melody and \u001b[32m\"ba-dee-ya\"\u001b[0m chorus, making it a timeless \n",
              "dance favorite.\n",
              "\n",
              "|Wedding Party Entrance Songs to Get the Party Started - The Mansion \n",
              "\u001b[33m...\u001b[0m\u001b[1m]\u001b[0m\u001b[1m(\u001b[0m\u001b[4;94mhttps://mansiononmainstreet.com/wedding-party-entrance-songs-to-get-the-party-started/\u001b[0m\u001b[4;94m)\u001b[0m\n",
              "Best Wedding Party Entrance Songs. No matter what vibe you're going for, there are some wedding party entrance \n",
              "songs that are guaranteed to be a hit with people. From the latest music from Justin Timberlake to oldies but \n",
              "goodies, most of your guests will be familiar with the popular wedding party entrance songs listed below.\n",
              "\n",
              "|\u001b[1;36m50\u001b[0m Songs on Every Event Planner's Playlist - \n",
              "Eventbrite\u001b[1m]\u001b[0m\u001b[1m(\u001b[0m\u001b[4;94mhttps://www.eventbrite.com/blog/event-planning-playlist-ds00/\u001b[0m\u001b[4;94m)\u001b[0m\n",
              "Music sets the mood and provides the soundtrack \u001b[1m(\u001b[0mliterally\u001b[1m)\u001b[0m for a memorable and exciting time. While the right \n",
              "songs can enhance the experience, the wrong event music can throw off the vibe. For example, fast-paced songs \n",
              "probably aren't the best fit for a formal gala. And smooth jazz is likely to lull your guests at a motivational \n",
              "conference.\n",
              "\n",
              "|\u001b[1;36m200\u001b[0m Classic House Party Songs Everyone Knows | The Best \u001b[33m...\u001b[0m - \n",
              "iSpyTunes\u001b[1m]\u001b[0m\u001b[1m(\u001b[0m\u001b[4;94mhttps://www.ispytunes.com/post/house-party-songs\u001b[0m\u001b[4;94m)\u001b[0m\n",
              "\" Branded merchandise adds flair to any occasion, just like the perfect playlist. \u001b[1;36m200\u001b[0m classic house party songs \n",
              "everyone knows set the mood, bringing energy to every celebration. The best popular party hits keep guests dancing,\n",
              "creating unforgettable moments. From throwback anthems to modern beats, a great selection ensures nonstop fun.\n",
              "\n",
              "|The Best Songs For Parties - The Ambient Mixer \n",
              "Blog\u001b[1m]\u001b[0m\u001b[1m(\u001b[0m\u001b[4;94mhttps://blog.ambient-mixer.com/usage/parties-2/the-best-songs-for-parties/\u001b[0m\u001b[4;94m)\u001b[0m\n",
              "The \u001b[1;36m100\u001b[0m best party songs ever made. Top \u001b[1;36m100\u001b[0m Best Party Songs Of All Time. Of course, these are just \u001b[1;36m2\u001b[0m of the many \n",
              "available playlists to choose from. However, these two contain some of the most popular ones most people usually \n",
              "end up using. If these are not the type of songs you or your guests might enjoy then simply follow the steps in the\n",
              "\u001b[33m...\u001b[0m\n",
              "\n",
              "|Passaic County Parks & Recreation: Music at the \n",
              "Mansion\u001b[1m]\u001b[0m\u001b[1m(\u001b[0m\u001b[4;94mhttps://passaiccountynj.myrec.com/info/activities/program_details.aspx?\u001b[0m\u001b[4;94mProgramID\u001b[0m\u001b[4;94m=\u001b[0m\u001b[4;94m29909\u001b[0m\u001b[4;94m)\u001b[0m\n",
              "Thursdays from \u001b[1;36m7\u001b[0m to \u001b[1;36m9\u001b[0m PM the finest local bands will be playing music while In the Drink restaurant sells food and \n",
              "drinks on site. September 3rd: Norton Smull Band; Parking is limited at the Dey Mansion \u001b[1;36m209\u001b[0m Totowa Rd. Wayne, NJ. \n",
              "Overflow parking will be at the Preakness Valley Golf Course. You may drop off your guests at the Mansion first.\n",
              "\n",
              "|Grand Entrance Songs | SOUNDfonix\u001b[1m]\u001b[0m\u001b[1m(\u001b[0m\u001b[4;94mhttps://soundfonixent.com/resources/reception-song-ideas/grand-entrance-songs/\u001b[0m\u001b[4;94m)\u001b[0m\n",
              "The entrance song sets the tone for the rest of the dance and the evening. Choose your entrance song wisely.\n",
              "\n",
              "|Party Music Guide: Ultimate Tips for the Perfect \n",
              "Playlist\u001b[1m]\u001b[0m\u001b[1m(\u001b[0m\u001b[4;94mhttps://thebackstage-deezer.com/music/perfect-party-music-playlist/\u001b[0m\u001b[4;94m)\u001b[0m\n",
              "Check out the best party playlists and top party songs to ensure your next party is packed! The most popular party \n",
              "songs are here, just hit play. \u001b[33m...\u001b[0m to decor. But, most of all, you need to have fantastic music. We recommend you \n",
              "get at least three hours' worth of party music queued and ready — that's about \u001b[1;36m75\u001b[0m songs. Lucky for you, we've \u001b[33m...\u001b[0m\n",
              "\n",
              "|The Top \u001b[1;36m100\u001b[0m Best Party Songs of All Time - \n",
              "LiveAbout\u001b[1m]\u001b[0m\u001b[1m(\u001b[0m\u001b[4;94mhttps://www.liveabout.com/top-best-party-songs-of-all-time-3248355\u001b[0m\u001b[4;94m)\u001b[0m\n",
              "\u001b[32m\"Macarena\"\u001b[0m then spent \u001b[1;36m14\u001b[0m weeks at No. \u001b[1;36m1\u001b[0m on the U.S. pop singles chart. For more than a year this was one of the \n",
              "most popular special event songs in the United States. It still works well as a charming party song encouraging \n",
              "everyone to join in on the simple dance.\n",
              "\n",
              "|\u001b[1;36m70\u001b[0m Best Piano Bar Songs You Should Request\u001b[1m]\u001b[0m\u001b[1m(\u001b[0m\u001b[4;94mhttps://www.pianoarea.com/best-piano-bar-songs/\u001b[0m\u001b[4;94m)\u001b[0m\n",
              "Best Piano Bar Songs You Should Request \u001b[1;36m1\u001b[0m. \u001b[32m\"Piano Man\"\u001b[0m by Billy Joel. One of the top recommendations for piano bar \n",
              "songs is \u001b[32m\"Piano Man\"\u001b[0m by Billy Joel.. This iconic track was released by Columbia Records in \u001b[1;36m1973\u001b[0m.. As part of the \n",
              "album titled \u001b[32m'Piano Man,'\u001b[0m it's one of Billy Joel's most recognizable works.. The song spins a captivating narrative\n",
              "and showcases Joe's compelling \u001b[33m...\u001b[0m\n"
            ]
          },
          "metadata": {},
          "output_type": "display_data"
        },
        {
          "data": {
            "text/html": [
              "<pre style=\"white-space:pre;overflow-x:auto;line-height:normal;font-family:Menlo,'DejaVu Sans Mono',consolas,'Courier New',monospace\"><span style=\"color: #7f7f7f; text-decoration-color: #7f7f7f\">[Step 0: Duration 4.70 seconds| Input tokens: 1,174 | Output tokens: 26]</span>\n",
              "</pre>\n"
            ],
            "text/plain": [
              "\u001b[2m[Step 0: Duration 4.70 seconds| Input tokens: 1,174 | Output tokens: 26]\u001b[0m\n"
            ]
          },
          "metadata": {},
          "output_type": "display_data"
        },
        {
          "data": {
            "text/html": [
              "<pre style=\"white-space:pre;overflow-x:auto;line-height:normal;font-family:Menlo,'DejaVu Sans Mono',consolas,'Courier New',monospace\"><span style=\"color: #d4b702; text-decoration-color: #d4b702\">━━━━━━━━━━━━━━━━━━━━━━━━━━━━━━━━━━━━━━━━━━━━━━━━━━━━━ </span><span style=\"font-weight: bold\">Step </span><span style=\"color: #008080; text-decoration-color: #008080; font-weight: bold\">2</span><span style=\"color: #d4b702; text-decoration-color: #d4b702\"> ━━━━━━━━━━━━━━━━━━━━━━━━━━━━━━━━━━━━━━━━━━━━━━━━━━━━━━</span>\n",
              "</pre>\n"
            ],
            "text/plain": [
              "\u001b[38;2;212;183;2m━━━━━━━━━━━━━━━━━━━━━━━━━━━━━━━━━━━━━━━━━━━━━━━━━━━━━ \u001b[0m\u001b[1mStep \u001b[0m\u001b[1;36m2\u001b[0m\u001b[38;2;212;183;2m ━━━━━━━━━━━━━━━━━━━━━━━━━━━━━━━━━━━━━━━━━━━━━━━━━━━━━━\u001b[0m\n"
            ]
          },
          "metadata": {},
          "output_type": "display_data"
        },
        {
          "data": {
            "text/html": [
              "<pre style=\"white-space:pre;overflow-x:auto;line-height:normal;font-family:Menlo,'DejaVu Sans Mono',consolas,'Courier New',monospace\">╭─────────────────────────────────────────────────────────────────────────────────────────────────────────────────╮\n",
              "│ Calling tool: 'web_search' with arguments: {'query': 'best party songs for a mansion late-night event'}         │\n",
              "╰─────────────────────────────────────────────────────────────────────────────────────────────────────────────────╯\n",
              "</pre>\n"
            ],
            "text/plain": [
              "╭─────────────────────────────────────────────────────────────────────────────────────────────────────────────────╮\n",
              "│ Calling tool: 'web_search' with arguments: {'query': 'best party songs for a mansion late-night event'}         │\n",
              "╰─────────────────────────────────────────────────────────────────────────────────────────────────────────────────╯\n"
            ]
          },
          "metadata": {},
          "output_type": "display_data"
        },
        {
          "data": {
            "text/html": [
              "<pre style=\"white-space:pre;overflow-x:auto;line-height:normal;font-family:Menlo,'DejaVu Sans Mono',consolas,'Courier New',monospace\">Observations: ## Search Results\n",
              "\n",
              "|The <span style=\"color: #008080; text-decoration-color: #008080; font-weight: bold\">75</span> Best Party Songs That Will Get Everyone Dancing - \n",
              "Gear4music<span style=\"font-weight: bold\">](</span><span style=\"color: #0000ff; text-decoration-color: #0000ff; text-decoration: underline\">https://www.gear4music.com/blog/best-party-songs/)</span>\n",
              "The best party songs <span style=\"color: #008080; text-decoration-color: #008080; font-weight: bold\">1</span>. <span style=\"color: #008000; text-decoration-color: #008000\">\"September\"</span> - Earth, Wind &amp; Fire <span style=\"font-weight: bold\">(</span><span style=\"color: #008080; text-decoration-color: #008080; font-weight: bold\">1978</span><span style=\"font-weight: bold\">)</span> Quite possibly the best party song. An infectious \n",
              "mix of funk and soul, <span style=\"color: #008000; text-decoration-color: #008000\">\"September\"</span> is celebrated for its upbeat melody and <span style=\"color: #008000; text-decoration-color: #008000\">\"ba-dee-ya\"</span> chorus, making it a timeless \n",
              "dance favorite.\n",
              "\n",
              "|<span style=\"color: #008080; text-decoration-color: #008080; font-weight: bold\">45</span> Songs That Get Your Event Guests on the Dance Floor Every \n",
              "Time<span style=\"font-weight: bold\">](</span><span style=\"color: #0000ff; text-decoration-color: #0000ff; text-decoration: underline\">https://hub.theeventplannerexpo.com/entertainment/35-songs-that-get-your-event-guests-on-the-dance-floor-ever</span>\n",
              "<span style=\"color: #0000ff; text-decoration-color: #0000ff; text-decoration: underline\">y-time)</span>\n",
              "You'll know your client's event best, including music genre preferences and styles. But these songs are wildly \n",
              "popular among many generations and are always great to have on standby should your dance guests need a boost. Party\n",
              "Songs <span style=\"color: #008000; text-decoration-color: #008000\">\"Flowers\"</span> by Miley Cyrus <span style=\"font-weight: bold\">(</span><span style=\"color: #008080; text-decoration-color: #008080; font-weight: bold\">2023</span><span style=\"font-weight: bold\">)</span> <span style=\"color: #008000; text-decoration-color: #008000\">\"TQG\"</span> by KAROL G &amp; Shakira <span style=\"font-weight: bold\">(</span><span style=\"color: #008080; text-decoration-color: #008080; font-weight: bold\">2023</span><span style=\"font-weight: bold\">)</span> <span style=\"color: #008000; text-decoration-color: #008000\">\"TRUSTFALL\"</span> by P!nk <span style=\"font-weight: bold\">(</span><span style=\"color: #008080; text-decoration-color: #008080; font-weight: bold\">2023</span><span style=\"font-weight: bold\">)</span>\n",
              "\n",
              "|Top <span style=\"color: #008080; text-decoration-color: #008080; font-weight: bold\">200</span> Most Requested Songs - DJ Event Planner<span style=\"font-weight: bold\">](</span><span style=\"color: #0000ff; text-decoration-color: #0000ff; text-decoration: underline\">https://djeventplanner.com/mostrequested.htm)</span>\n",
              "Based on over <span style=\"color: #008080; text-decoration-color: #008080; font-weight: bold\">2</span> million requests using the DJ Event Planner song request system, this is a list of the most \n",
              "requested songs of the past year. <span style=\"color: #808000; text-decoration-color: #808000\">...</span> December <span style=\"color: #008080; text-decoration-color: #008080; font-weight: bold\">1963</span> <span style=\"font-weight: bold\">(</span>Oh, What A Night<span style=\"font-weight: bold\">)</span> <span style=\"color: #008080; text-decoration-color: #008080; font-weight: bold\">24</span>: Commodores: Brick House: <span style=\"color: #008080; text-decoration-color: #008080; font-weight: bold\">25</span>: Earth, Wind\n",
              "and Fire: Boogie Wonderland: <span style=\"color: #008080; text-decoration-color: #008080; font-weight: bold\">26</span>: Elton John: Your Song: <span style=\"color: #008080; text-decoration-color: #008080; font-weight: bold\">27</span>: Stevie Wonder: Isn't She Lovely: <span style=\"color: #008080; text-decoration-color: #008080; font-weight: bold\">28</span>: <span style=\"color: #808000; text-decoration-color: #808000\">...</span> Grove St. \n",
              "Party: <span style=\"color: #008080; text-decoration-color: #008080; font-weight: bold\">30</span> <span style=\"color: #808000; text-decoration-color: #808000\">...</span>\n",
              "\n",
              "|<span style=\"color: #008080; text-decoration-color: #008080; font-weight: bold\">50</span> Songs on Every Event Planner's Playlist - \n",
              "Eventbrite<span style=\"font-weight: bold\">](</span><span style=\"color: #0000ff; text-decoration-color: #0000ff; text-decoration: underline\">https://www.eventbrite.com/blog/event-planning-playlist-ds00/)</span>\n",
              "For example, fast-paced songs probably aren't the best fit for a formal gala. And smooth jazz is likely to lull \n",
              "your guests at a motivational conference. That's why it's crucial to think about the tone you want to set and \n",
              "choose a playlist that embodies it. We've compiled a list of possible tunes to help you pick the best event songs.\n",
              "\n",
              "|The Best Party Songs of All Time <span style=\"font-weight: bold\">(</span>Our Playlists<span style=\"font-weight: bold\">)](</span><span style=\"color: #0000ff; text-decoration-color: #0000ff; text-decoration: underline\">https://www.ispytunes.com/post/best-party-songs)</span>\n",
              "Discover the best party songs to make your event unforgettable! Our playlists feature the top party songs, from \n",
              "timeless classics to the latest hits. <span style=\"color: #808000; text-decoration-color: #808000\">...</span> Last Friday Night by Katy Perry. Sweet Child O' Mine by Guns N' Roses. I \n",
              "Gotta Feeling by the Black Eyed Peas. <span style=\"color: #808000; text-decoration-color: #808000\">...</span> <span style=\"color: #008080; text-decoration-color: #008080; font-weight: bold\">200</span> Classic House Party Songs Everyone Knows | The Best Popular Party \n",
              "Songs <span style=\"color: #808000; text-decoration-color: #808000\">...</span>\n",
              "\n",
              "|<span style=\"color: #008080; text-decoration-color: #008080; font-weight: bold\">15</span> Best Party Songs of All Time - Singersroom.com<span style=\"font-weight: bold\">](</span><span style=\"color: #0000ff; text-decoration-color: #0000ff; text-decoration: underline\">https://singersroom.com/w75/best-party-songs-of-all-time/)</span>\n",
              "Whether it's a wild club night, a backyard BBQ, or a house party with friends, the best party songs bring people \n",
              "together, get them moving, and keep the good vibes flowing all night long.\n",
              "\n",
              "|Best Songs To Party: DJ's Ultimate Party Songs Playlist - \n",
              "Top40Weekly.com<span style=\"font-weight: bold\">](</span><span style=\"color: #0000ff; text-decoration-color: #0000ff; text-decoration: underline\">https://top40weekly.com/best-songs-to-party/)</span>\n",
              "<span style=\"color: #008000; text-decoration-color: #008000\">\"Jump Around\"</span> by House of Pain is a classic party anthem that has stood the test of time, remaining a staple at \n",
              "parties and sporting events for over two decades. The song's energetic rap verses, pulsating rhythm, and catchy \n",
              "chorus create an atmosphere of pure excitement and exhilaration that never fails to ignite the dance floor.\n",
              "\n",
              "|<span style=\"color: #008080; text-decoration-color: #008080; font-weight: bold\">50</span>+ Best Songs For Your Next Party in <span style=\"color: #008080; text-decoration-color: #008080; font-weight: bold\">2025</span> - Aleka's \n",
              "Get-Together<span style=\"font-weight: bold\">](</span><span style=\"color: #0000ff; text-decoration-color: #0000ff; text-decoration: underline\">https://alekasgettogether.com/top-songs-for-any-party/)</span>\n",
              "A perfect, high-energy track to keep the party vibe strong all night. Last Friday Night <span style=\"font-weight: bold\">(</span>T.G.I.F.<span style=\"font-weight: bold\">)</span> - Katy Perry \n",
              "This upbeat pop anthem is a must-play to keep the energy light and fun. Bleeding Love - Leona Lewis A heartfelt \n",
              "ballad that balances out the upbeat tracks with an emotional sing-along. Crank That <span style=\"font-weight: bold\">(</span>Soulja Boy<span style=\"font-weight: bold\">)</span> - Soulja Boy Tell \n",
              "'Em\n",
              "\n",
              "|<span style=\"color: #008080; text-decoration-color: #008080; font-weight: bold\">27</span> Most Influential Songs About Parties &amp; Celebrations <span style=\"font-weight: bold\">(</span>Must Hear<span style=\"font-weight: bold\">)](</span><span style=\"color: #0000ff; text-decoration-color: #0000ff; text-decoration: underline\">https://www.pdmusic.org/songs-about-parties/)</span>\n",
              "Contents. <span style=\"color: #008080; text-decoration-color: #008080; font-weight: bold\">1</span> <span style=\"color: #008080; text-decoration-color: #008080; font-weight: bold\">27</span> Most Famous Songs About Parties, Partying &amp; Drinking With Friend <span style=\"font-weight: bold\">(</span>Ultimate Playlist<span style=\"font-weight: bold\">)</span>; <span style=\"color: #008080; text-decoration-color: #008080; font-weight: bold\">2</span> #<span style=\"color: #008080; text-decoration-color: #008080; font-weight: bold\">1</span> <span style=\"color: #008000; text-decoration-color: #008000\">\"Party in</span>\n",
              "<span style=\"color: #008000; text-decoration-color: #008000\">the U.S.A.\"</span> by Miley Cyrus; <span style=\"color: #008080; text-decoration-color: #008080; font-weight: bold\">3</span> #<span style=\"color: #008080; text-decoration-color: #008080; font-weight: bold\">2</span> <span style=\"color: #008000; text-decoration-color: #008000\">\"I Gotta Feeling\"</span> by The Black Eyed Peas; <span style=\"color: #008080; text-decoration-color: #008080; font-weight: bold\">4</span> #<span style=\"color: #008080; text-decoration-color: #008080; font-weight: bold\">3</span> <span style=\"color: #008000; text-decoration-color: #008000\">\"Party Rock Anthem\"</span> by LMFAO; <span style=\"color: #008080; text-decoration-color: #008080; font-weight: bold\">5</span> #<span style=\"color: #008080; text-decoration-color: #008080; font-weight: bold\">4</span> \n",
              "<span style=\"color: #008000; text-decoration-color: #008000\">\"Last Friday Night (T.G.I.F.)\"</span> by Katy Perry; <span style=\"color: #008080; text-decoration-color: #008080; font-weight: bold\">6</span> #<span style=\"color: #008080; text-decoration-color: #008080; font-weight: bold\">5</span> <span style=\"color: #008000; text-decoration-color: #008000\">\"Dancing Queen\"</span> by ABBA; <span style=\"color: #008080; text-decoration-color: #008080; font-weight: bold\">7</span> #<span style=\"color: #008080; text-decoration-color: #008080; font-weight: bold\">6</span> <span style=\"color: #008000; text-decoration-color: #008000\">\"Turn Down for What\"</span> by DJ Snake &amp;\n",
              "Lil Jon\n",
              "\n",
              "|<span style=\"color: #008080; text-decoration-color: #008080; font-weight: bold\">40</span> Best Party Songs | Songs To Dance To, Ranked By Our Editors - Time \n",
              "Out<span style=\"font-weight: bold\">](</span><span style=\"color: #0000ff; text-decoration-color: #0000ff; text-decoration: underline\">https://www.timeout.com/music/best-party-songs)</span>\n",
              "The best is when you go for the extended version, and find yourself in the midst of the intro for about <span style=\"color: #008080; text-decoration-color: #008080; font-weight: bold\">11</span> minutes.\n",
              "But whichever version you go for, this is the party song, in every way. She <span style=\"color: #808000; text-decoration-color: #808000\">...</span>\n",
              "</pre>\n"
            ],
            "text/plain": [
              "Observations: ## Search Results\n",
              "\n",
              "|The \u001b[1;36m75\u001b[0m Best Party Songs That Will Get Everyone Dancing - \n",
              "Gear4music\u001b[1m]\u001b[0m\u001b[1m(\u001b[0m\u001b[4;94mhttps://www.gear4music.com/blog/best-party-songs/\u001b[0m\u001b[4;94m)\u001b[0m\n",
              "The best party songs \u001b[1;36m1\u001b[0m. \u001b[32m\"September\"\u001b[0m - Earth, Wind & Fire \u001b[1m(\u001b[0m\u001b[1;36m1978\u001b[0m\u001b[1m)\u001b[0m Quite possibly the best party song. An infectious \n",
              "mix of funk and soul, \u001b[32m\"September\"\u001b[0m is celebrated for its upbeat melody and \u001b[32m\"ba-dee-ya\"\u001b[0m chorus, making it a timeless \n",
              "dance favorite.\n",
              "\n",
              "|\u001b[1;36m45\u001b[0m Songs That Get Your Event Guests on the Dance Floor Every \n",
              "Time\u001b[1m]\u001b[0m\u001b[1m(\u001b[0m\u001b[4;94mhttps://hub.theeventplannerexpo.com/entertainment/35-songs-that-get-your-event-guests-on-the-dance-floor-ever\u001b[0m\n",
              "\u001b[4;94my-time\u001b[0m\u001b[4;94m)\u001b[0m\n",
              "You'll know your client's event best, including music genre preferences and styles. But these songs are wildly \n",
              "popular among many generations and are always great to have on standby should your dance guests need a boost. Party\n",
              "Songs \u001b[32m\"Flowers\"\u001b[0m by Miley Cyrus \u001b[1m(\u001b[0m\u001b[1;36m2023\u001b[0m\u001b[1m)\u001b[0m \u001b[32m\"TQG\"\u001b[0m by KAROL G & Shakira \u001b[1m(\u001b[0m\u001b[1;36m2023\u001b[0m\u001b[1m)\u001b[0m \u001b[32m\"TRUSTFALL\"\u001b[0m by P!nk \u001b[1m(\u001b[0m\u001b[1;36m2023\u001b[0m\u001b[1m)\u001b[0m\n",
              "\n",
              "|Top \u001b[1;36m200\u001b[0m Most Requested Songs - DJ Event Planner\u001b[1m]\u001b[0m\u001b[1m(\u001b[0m\u001b[4;94mhttps://djeventplanner.com/mostrequested.htm\u001b[0m\u001b[4;94m)\u001b[0m\n",
              "Based on over \u001b[1;36m2\u001b[0m million requests using the DJ Event Planner song request system, this is a list of the most \n",
              "requested songs of the past year. \u001b[33m...\u001b[0m December \u001b[1;36m1963\u001b[0m \u001b[1m(\u001b[0mOh, What A Night\u001b[1m)\u001b[0m \u001b[1;36m24\u001b[0m: Commodores: Brick House: \u001b[1;36m25\u001b[0m: Earth, Wind\n",
              "and Fire: Boogie Wonderland: \u001b[1;36m26\u001b[0m: Elton John: Your Song: \u001b[1;36m27\u001b[0m: Stevie Wonder: Isn't She Lovely: \u001b[1;36m28\u001b[0m: \u001b[33m...\u001b[0m Grove St. \n",
              "Party: \u001b[1;36m30\u001b[0m \u001b[33m...\u001b[0m\n",
              "\n",
              "|\u001b[1;36m50\u001b[0m Songs on Every Event Planner's Playlist - \n",
              "Eventbrite\u001b[1m]\u001b[0m\u001b[1m(\u001b[0m\u001b[4;94mhttps://www.eventbrite.com/blog/event-planning-playlist-ds00/\u001b[0m\u001b[4;94m)\u001b[0m\n",
              "For example, fast-paced songs probably aren't the best fit for a formal gala. And smooth jazz is likely to lull \n",
              "your guests at a motivational conference. That's why it's crucial to think about the tone you want to set and \n",
              "choose a playlist that embodies it. We've compiled a list of possible tunes to help you pick the best event songs.\n",
              "\n",
              "|The Best Party Songs of All Time \u001b[1m(\u001b[0mOur Playlists\u001b[1m)\u001b[0m\u001b[1m]\u001b[0m\u001b[1m(\u001b[0m\u001b[4;94mhttps://www.ispytunes.com/post/best-party-songs\u001b[0m\u001b[4;94m)\u001b[0m\n",
              "Discover the best party songs to make your event unforgettable! Our playlists feature the top party songs, from \n",
              "timeless classics to the latest hits. \u001b[33m...\u001b[0m Last Friday Night by Katy Perry. Sweet Child O' Mine by Guns N' Roses. I \n",
              "Gotta Feeling by the Black Eyed Peas. \u001b[33m...\u001b[0m \u001b[1;36m200\u001b[0m Classic House Party Songs Everyone Knows | The Best Popular Party \n",
              "Songs \u001b[33m...\u001b[0m\n",
              "\n",
              "|\u001b[1;36m15\u001b[0m Best Party Songs of All Time - Singersroom.com\u001b[1m]\u001b[0m\u001b[1m(\u001b[0m\u001b[4;94mhttps://singersroom.com/w75/best-party-songs-of-all-time/\u001b[0m\u001b[4;94m)\u001b[0m\n",
              "Whether it's a wild club night, a backyard BBQ, or a house party with friends, the best party songs bring people \n",
              "together, get them moving, and keep the good vibes flowing all night long.\n",
              "\n",
              "|Best Songs To Party: DJ's Ultimate Party Songs Playlist - \n",
              "Top40Weekly.com\u001b[1m]\u001b[0m\u001b[1m(\u001b[0m\u001b[4;94mhttps://top40weekly.com/best-songs-to-party/\u001b[0m\u001b[4;94m)\u001b[0m\n",
              "\u001b[32m\"Jump Around\"\u001b[0m by House of Pain is a classic party anthem that has stood the test of time, remaining a staple at \n",
              "parties and sporting events for over two decades. The song's energetic rap verses, pulsating rhythm, and catchy \n",
              "chorus create an atmosphere of pure excitement and exhilaration that never fails to ignite the dance floor.\n",
              "\n",
              "|\u001b[1;36m50\u001b[0m+ Best Songs For Your Next Party in \u001b[1;36m2025\u001b[0m - Aleka's \n",
              "Get-Together\u001b[1m]\u001b[0m\u001b[1m(\u001b[0m\u001b[4;94mhttps://alekasgettogether.com/top-songs-for-any-party/\u001b[0m\u001b[4;94m)\u001b[0m\n",
              "A perfect, high-energy track to keep the party vibe strong all night. Last Friday Night \u001b[1m(\u001b[0mT.G.I.F.\u001b[1m)\u001b[0m - Katy Perry \n",
              "This upbeat pop anthem is a must-play to keep the energy light and fun. Bleeding Love - Leona Lewis A heartfelt \n",
              "ballad that balances out the upbeat tracks with an emotional sing-along. Crank That \u001b[1m(\u001b[0mSoulja Boy\u001b[1m)\u001b[0m - Soulja Boy Tell \n",
              "'Em\n",
              "\n",
              "|\u001b[1;36m27\u001b[0m Most Influential Songs About Parties & Celebrations \u001b[1m(\u001b[0mMust Hear\u001b[1m)\u001b[0m\u001b[1m]\u001b[0m\u001b[1m(\u001b[0m\u001b[4;94mhttps://www.pdmusic.org/songs-about-parties/\u001b[0m\u001b[4;94m)\u001b[0m\n",
              "Contents. \u001b[1;36m1\u001b[0m \u001b[1;36m27\u001b[0m Most Famous Songs About Parties, Partying & Drinking With Friend \u001b[1m(\u001b[0mUltimate Playlist\u001b[1m)\u001b[0m; \u001b[1;36m2\u001b[0m #\u001b[1;36m1\u001b[0m \u001b[32m\"Party in\u001b[0m\n",
              "\u001b[32mthe U.S.A.\"\u001b[0m by Miley Cyrus; \u001b[1;36m3\u001b[0m #\u001b[1;36m2\u001b[0m \u001b[32m\"I Gotta Feeling\"\u001b[0m by The Black Eyed Peas; \u001b[1;36m4\u001b[0m #\u001b[1;36m3\u001b[0m \u001b[32m\"Party Rock Anthem\"\u001b[0m by LMFAO; \u001b[1;36m5\u001b[0m #\u001b[1;36m4\u001b[0m \n",
              "\u001b[32m\"Last Friday Night \u001b[0m\u001b[32m(\u001b[0m\u001b[32mT.G.I.F.\u001b[0m\u001b[32m)\u001b[0m\u001b[32m\"\u001b[0m by Katy Perry; \u001b[1;36m6\u001b[0m #\u001b[1;36m5\u001b[0m \u001b[32m\"Dancing Queen\"\u001b[0m by ABBA; \u001b[1;36m7\u001b[0m #\u001b[1;36m6\u001b[0m \u001b[32m\"Turn Down for What\"\u001b[0m by DJ Snake &\n",
              "Lil Jon\n",
              "\n",
              "|\u001b[1;36m40\u001b[0m Best Party Songs | Songs To Dance To, Ranked By Our Editors - Time \n",
              "Out\u001b[1m]\u001b[0m\u001b[1m(\u001b[0m\u001b[4;94mhttps://www.timeout.com/music/best-party-songs\u001b[0m\u001b[4;94m)\u001b[0m\n",
              "The best is when you go for the extended version, and find yourself in the midst of the intro for about \u001b[1;36m11\u001b[0m minutes.\n",
              "But whichever version you go for, this is the party song, in every way. She \u001b[33m...\u001b[0m\n"
            ]
          },
          "metadata": {},
          "output_type": "display_data"
        },
        {
          "data": {
            "text/html": [
              "<pre style=\"white-space:pre;overflow-x:auto;line-height:normal;font-family:Menlo,'DejaVu Sans Mono',consolas,'Courier New',monospace\"><span style=\"color: #7f7f7f; text-decoration-color: #7f7f7f\">[Step 1: Duration 6.66 seconds| Input tokens: 3,435 | Output tokens: 55]</span>\n",
              "</pre>\n"
            ],
            "text/plain": [
              "\u001b[2m[Step 1: Duration 6.66 seconds| Input tokens: 3,435 | Output tokens: 55]\u001b[0m\n"
            ]
          },
          "metadata": {},
          "output_type": "display_data"
        },
        {
          "data": {
            "text/html": [
              "<pre style=\"white-space:pre;overflow-x:auto;line-height:normal;font-family:Menlo,'DejaVu Sans Mono',consolas,'Courier New',monospace\"><span style=\"color: #d4b702; text-decoration-color: #d4b702\">━━━━━━━━━━━━━━━━━━━━━━━━━━━━━━━━━━━━━━━━━━━━━━━━━━━━━ </span><span style=\"font-weight: bold\">Step </span><span style=\"color: #008080; text-decoration-color: #008080; font-weight: bold\">3</span><span style=\"color: #d4b702; text-decoration-color: #d4b702\"> ━━━━━━━━━━━━━━━━━━━━━━━━━━━━━━━━━━━━━━━━━━━━━━━━━━━━━━</span>\n",
              "</pre>\n"
            ],
            "text/plain": [
              "\u001b[38;2;212;183;2m━━━━━━━━━━━━━━━━━━━━━━━━━━━━━━━━━━━━━━━━━━━━━━━━━━━━━ \u001b[0m\u001b[1mStep \u001b[0m\u001b[1;36m3\u001b[0m\u001b[38;2;212;183;2m ━━━━━━━━━━━━━━━━━━━━━━━━━━━━━━━━━━━━━━━━━━━━━━━━━━━━━━\u001b[0m\n"
            ]
          },
          "metadata": {},
          "output_type": "display_data"
        },
        {
          "data": {
            "text/html": [
              "<pre style=\"white-space:pre;overflow-x:auto;line-height:normal;font-family:Menlo,'DejaVu Sans Mono',consolas,'Courier New',monospace\">╭─────────────────────────────────────────────────────────────────────────────────────────────────────────────────╮\n",
              "│ Calling tool: 'final_answer' with arguments: {'answer': \"For a party at Wayne's mansion, consider playing a mix │\n",
              "│ of classic party hits and modern anthems to cater to various age groups. A recommended playlist might include   │\n",
              "│ songs like 'September' by Earth, Wind &amp; Fire, 'I Gotta Feeling' by The Black Eyed Peas, 'Last Friday Night      │\n",
              "│ (T.G.I.F.)' by Katy Perry, 'Dancing Queen' by ABBA, 'Turn Down for What' by DJ Snake &amp; Lil Jon, and 'Crank That │\n",
              "│ (Soulja Boy)' by Soulja Boy Tell 'Em. These songs are known to get everyone dancing and celebrating!\"}          │\n",
              "╰─────────────────────────────────────────────────────────────────────────────────────────────────────────────────╯\n",
              "</pre>\n"
            ],
            "text/plain": [
              "╭─────────────────────────────────────────────────────────────────────────────────────────────────────────────────╮\n",
              "│ Calling tool: 'final_answer' with arguments: {'answer': \"For a party at Wayne's mansion, consider playing a mix │\n",
              "│ of classic party hits and modern anthems to cater to various age groups. A recommended playlist might include   │\n",
              "│ songs like 'September' by Earth, Wind & Fire, 'I Gotta Feeling' by The Black Eyed Peas, 'Last Friday Night      │\n",
              "│ (T.G.I.F.)' by Katy Perry, 'Dancing Queen' by ABBA, 'Turn Down for What' by DJ Snake & Lil Jon, and 'Crank That │\n",
              "│ (Soulja Boy)' by Soulja Boy Tell 'Em. These songs are known to get everyone dancing and celebrating!\"}          │\n",
              "╰─────────────────────────────────────────────────────────────────────────────────────────────────────────────────╯\n"
            ]
          },
          "metadata": {},
          "output_type": "display_data"
        },
        {
          "data": {
            "text/html": [
              "<pre style=\"white-space:pre;overflow-x:auto;line-height:normal;font-family:Menlo,'DejaVu Sans Mono',consolas,'Courier New',monospace\"><span style=\"color: #d4b702; text-decoration-color: #d4b702; font-weight: bold\">Final answer: For a party at Wayne's mansion, consider playing a mix of classic party hits and modern anthems to </span>\n",
              "<span style=\"color: #d4b702; text-decoration-color: #d4b702; font-weight: bold\">cater to various age groups. A recommended playlist might include songs like 'September' by Earth, Wind &amp; Fire, 'I </span>\n",
              "<span style=\"color: #d4b702; text-decoration-color: #d4b702; font-weight: bold\">Gotta Feeling' by The Black Eyed Peas, 'Last Friday Night (T.G.I.F.)' by Katy Perry, 'Dancing Queen' by ABBA, 'Turn</span>\n",
              "<span style=\"color: #d4b702; text-decoration-color: #d4b702; font-weight: bold\">Down for What' by DJ Snake &amp; Lil Jon, and 'Crank That (Soulja Boy)' by Soulja Boy Tell 'Em. These songs are known </span>\n",
              "<span style=\"color: #d4b702; text-decoration-color: #d4b702; font-weight: bold\">to get everyone dancing and celebrating!</span>\n",
              "</pre>\n"
            ],
            "text/plain": [
              "\u001b[1;38;2;212;183;2mFinal answer: For a party at Wayne's mansion, consider playing a mix of classic party hits and modern anthems to \u001b[0m\n",
              "\u001b[1;38;2;212;183;2mcater to various age groups. A recommended playlist might include songs like 'September' by Earth, Wind & Fire, 'I \u001b[0m\n",
              "\u001b[1;38;2;212;183;2mGotta Feeling' by The Black Eyed Peas, 'Last Friday Night (T.G.I.F.)' by Katy Perry, 'Dancing Queen' by ABBA, 'Turn\u001b[0m\n",
              "\u001b[1;38;2;212;183;2mDown for What' by DJ Snake & Lil Jon, and 'Crank That (Soulja Boy)' by Soulja Boy Tell 'Em. These songs are known \u001b[0m\n",
              "\u001b[1;38;2;212;183;2mto get everyone dancing and celebrating!\u001b[0m\n"
            ]
          },
          "metadata": {},
          "output_type": "display_data"
        },
        {
          "data": {
            "text/html": [
              "<pre style=\"white-space:pre;overflow-x:auto;line-height:normal;font-family:Menlo,'DejaVu Sans Mono',consolas,'Courier New',monospace\"><span style=\"color: #7f7f7f; text-decoration-color: #7f7f7f\">[Step 2: Duration 10.69 seconds| Input tokens: 6,869 | Output tokens: 199]</span>\n",
              "</pre>\n"
            ],
            "text/plain": [
              "\u001b[2m[Step 2: Duration 10.69 seconds| Input tokens: 6,869 | Output tokens: 199]\u001b[0m\n"
            ]
          },
          "metadata": {},
          "output_type": "display_data"
        },
        {
          "data": {
            "application/vnd.google.colaboratory.intrinsic+json": {
              "type": "string"
            },
            "text/plain": [
              "\"For a party at Wayne's mansion, consider playing a mix of classic party hits and modern anthems to cater to various age groups. A recommended playlist might include songs like 'September' by Earth, Wind & Fire, 'I Gotta Feeling' by The Black Eyed Peas, 'Last Friday Night (T.G.I.F.)' by Katy Perry, 'Dancing Queen' by ABBA, 'Turn Down for What' by DJ Snake & Lil Jon, and 'Crank That (Soulja Boy)' by Soulja Boy Tell 'Em. These songs are known to get everyone dancing and celebrating!\""
            ]
          },
          "execution_count": 3,
          "metadata": {},
          "output_type": "execute_result"
        }
      ],
      "source": [
        "from smolagents import ToolCallingAgent, DuckDuckGoSearchTool, HfApiModel\n",
        "\n",
        "agent = ToolCallingAgent(tools=[DuckDuckGoSearchTool()], model=HfApiModel())\n",
        "\n",
        "agent.run(\"Search for the best music recommendations for a party at the Wayne's mansion.\")"
      ]
    },
    {
      "cell_type": "markdown",
      "metadata": {
        "id": "Cl19VWGRYXrr"
      },
      "source": [
        "\n",
        "When you examine the agent's trace, instead of seeing `Executing parsed code:`, you'll see something like:\n",
        "\n",
        "```text\n",
        "╭─────────────────────────────────────────────────────────────────────────────────────────────────────────────────╮\n",
        "│ Calling tool: 'web_search' with arguments: {'query': \"best music recommendations for a party at Wayne's         │\n",
        "│ mansion\"}                                                                                                       │\n",
        "╰─────────────────────────────────────────────────────────────────────────────────────────────────────────────────╯\n",
        "```  \n",
        "\n",
        "The agent generates a structured tool call that the system processes to produce the output, rather than directly executing code like a `CodeAgent`.\n",
        "\n",
        "Now that we understand both agent types, we can choose the right one for our needs. Let's continue exploring `smolagents` to make Alfred's party a success! 🎉"
      ]
    }
  ],
  "metadata": {
    "colab": {
      "provenance": []
    },
    "kernelspec": {
      "display_name": "Python 3",
      "name": "python3"
    },
    "language_info": {
      "name": "python"
    }
  },
  "nbformat": 4,
  "nbformat_minor": 0
}